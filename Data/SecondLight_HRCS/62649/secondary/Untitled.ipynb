{
 "cells": [
  {
   "cell_type": "code",
   "execution_count": 1,
   "metadata": {},
   "outputs": [
    {
     "ename": "ImportError",
     "evalue": "No module named 'hrcsentinel'",
     "output_type": "error",
     "traceback": [
      "\u001b[0;31m---------------------------------------------------------------------------\u001b[0m",
      "\u001b[0;31mImportError\u001b[0m                               Traceback (most recent call last)",
      "\u001b[0;32m<ipython-input-1-06e9f7b5712b>\u001b[0m in \u001b[0;36m<module>\u001b[0;34m\u001b[0m\n\u001b[1;32m      3\u001b[0m \u001b[0;32mimport\u001b[0m \u001b[0mpandas\u001b[0m \u001b[0;32mas\u001b[0m \u001b[0mpd\u001b[0m\u001b[0;34m\u001b[0m\u001b[0m\n\u001b[1;32m      4\u001b[0m \u001b[0;34m\u001b[0m\u001b[0m\n\u001b[0;32m----> 5\u001b[0;31m \u001b[0;32mfrom\u001b[0m \u001b[0mhrcsentinel\u001b[0m \u001b[0;32mimport\u001b[0m \u001b[0mhypercore\u001b[0m \u001b[0;32mas\u001b[0m \u001b[0mhrc\u001b[0m\u001b[0;34m\u001b[0m\u001b[0m\n\u001b[0m",
      "\u001b[0;31mImportError\u001b[0m: No module named 'hrcsentinel'"
     ]
    }
   ],
   "source": [
    "from astropy.io import fits\n",
    "\n",
    "import pandas as pd\n",
    "\n",
    "from hrcsentinel import hypercore as hrc"
   ]
  },
  {
   "cell_type": "code",
   "execution_count": 2,
   "metadata": {},
   "outputs": [],
   "source": [
    "hdulist = fits.open('hrcf62649_000N001_evt1.fits.gz')"
   ]
  },
  {
   "cell_type": "code",
   "execution_count": 4,
   "metadata": {},
   "outputs": [
    {
     "data": {
      "text/plain": [
       "FITS_rec([(7.20020063e+08,  32,  9, 1, 241,  453, 284,  408,  456,  49, 2331,  8331, 2321, 8352, 2321,  8340, 49834.703, 32626.932, 24956.074, 47785.16 ,  14.7734375,  20,  76, 1891, 1, [  0,   0,   0,   0,   0,   0,   0,   0,   0,   0,   1,   0,   0,   0,   0,   0,   0,   0,   0,   0,   1,   0,   0,   0,   0,   0,   1,   0,   0,   0,   1,   0]),\n",
       "          (7.20020170e+08,  80, 10, 1, 281,  470, 204,   88,  468, 345, 2761, 20587, 2771, 4126, 2771, 20570, 37614.152, 32192.053, 31141.291, 37310.992,  14.5      ,  29,  64, 1856, 2, [  0,   0,   0,   0,   0,   0,   0,   0,   0,   0,   0,   0,   1,   0,   0,   0,   0,   0,   0,   0,   1,   0,   0,   0,   0,   0,   0,   0,   0,   0,   1,   1]),\n",
       "          (7.20020195e+08, 134,  5, 1, 135,  576,  32,   81,  431, 102, 1417, 34397, 1414, 1460, 1414, 34360, 23837.135, 33564.367, 36392.004, 24524.246,  10.6015625,  17,  66, 1357, 3, [  0,   0,   0,   0,   0,   0,   0,   0,   0,   0,   0,   0,   0,   0,   0,   0,   0,   0,   0,   0,   1,   0,   0,   0,   0,   0,   0,   0,   0,   0,   0,   1]),\n",
       "          ...,\n",
       "          (7.20026454e+08,  34,  8, 3, 376, 1963, 288, 1008, 1226,  75, 2075,  8821, 2065, 8840, 2065,  8828, 49346.832, 32883.105, 25094.59 , 47312.832, 153.875    , 162, 703, 4924, 1, [  1,   1,   0,   0,   0,   0,   0,   0,   0,   0,   0,   0,   0,   0,   0,   0,   0,   0,   0,   0,   0,   0,   0,   0,   0,   0,   0,   0,   0,   0,   1,   0]),\n",
       "          (7.20026454e+08, 145,  6, 2, 967,  687, 468,  685, 1306, 116, 1595, 37188, 1583, 4250, 1583, 37150, 21049.596, 33399.445, 37896.504, 22071.777,  66.078125 ,  93, 359, 4229, 3, [  0,   0,   0,   0,   0,   0,   0,   0,   0,   0,   1,   0,   0,   0,   0,   0,   0,   0,   1,   0,   1,   0,   0,   0,   0,   0,   1,   0,   0,   0,   1,   0]),\n",
       "          (7.20026454e+08, 132,  8, 1, 328, 1155,  70,  306,  868,  97, 2134, 33877, 2126,  942, 2126, 33842, 24353.48 , 32853.207, 36831.105, 25246.518,  22.0625   ,  33, 119, 2824, 3, [  0,   0,   0,   0,   0,   0,   0,   0,   0,   0,   0,   0,   0,   0,   0,   0,   0,   0,   0,   0,   1,   0,   0,   0,   0,   0,   0,   0,   0,   0,   0,   0])],\n",
       "         dtype=(numpy.record, [('time', '>f8'), ('crsv', '>i2'), ('crsu', '>i2'), ('amp_sf', '>i2'), ('av1', '>i2'), ('av2', '>i2'), ('av3', '>i2'), ('au1', '>i2'), ('au2', '>i2'), ('au3', '>i2'), ('rawx', '>i4'), ('rawy', '>i4'), ('chipx', '>i2'), ('chipy', '>i2'), ('tdetx', '>i4'), ('tdety', '>i4'), ('detx', '>f4'), ('dety', '>f4'), ('x', '>f4'), ('y', '>f4'), ('samp', '>f4'), ('pha', '>i2'), ('pi', '>i2'), ('sumamps', '>i2'), ('chip_id', '>i2'), ('status', 'u1', (4,))]))"
      ]
     },
     "execution_count": 4,
     "metadata": {},
     "output_type": "execute_result"
    }
   ],
   "source": [
    "hdulist[1].data"
   ]
  },
  {
   "cell_type": "code",
   "execution_count": null,
   "metadata": {},
   "outputs": [],
   "source": []
  }
 ],
 "metadata": {
  "kernelspec": {
   "display_name": "Python 3",
   "language": "python",
   "name": "python3"
  },
  "language_info": {
   "codemirror_mode": {
    "name": "ipython",
    "version": 3
   },
   "file_extension": ".py",
   "mimetype": "text/x-python",
   "name": "python",
   "nbconvert_exporter": "python",
   "pygments_lexer": "ipython3",
   "version": "3.5.4"
  }
 },
 "nbformat": 4,
 "nbformat_minor": 2
}
