{
 "cells": [
  {
   "cell_type": "code",
   "execution_count": 2,
   "metadata": {
    "collapsed": true,
    "nbpresent": {
     "id": "544263d3-5f05-4ac4-a346-c40fe10d4bc9"
    }
   },
   "outputs": [],
   "source": [
    "import plotly.express as px\n",
    "\n",
    "import Ska.engarchive.fetch as fetch\n",
    "import Chandra.Time\n",
    "\n",
    "import datetime as dt\n",
    "import matplotlib.dates as mdate\n",
    "\n",
    "from hrcsentinel import hrccore as hrc"
   ]
  },
  {
   "cell_type": "code",
   "execution_count": 3,
   "metadata": {
    "collapsed": true,
    "nbpresent": {
     "id": "df1e3b1e-10c5-4004-b597-b92d9bfb7bf4"
    }
   },
   "outputs": [],
   "source": [
    "# fetch.data_source.set('cxc', 'maude allow_subset=False')\n",
    "fetch.data_source.set('cxc')"
   ]
  },
  {
   "cell_type": "code",
   "execution_count": 16,
   "metadata": {
    "collapsed": true,
    "nbpresent": {
     "id": "2c3e4991-82fa-4796-9c86-1dd6063c4ba1"
    }
   },
   "outputs": [],
   "source": [
    "sunday_pass = dt.datetime(2020,8,24,2,30)\n",
    "sunday_pass_end = dt.datetime(2020,8,24,3,27,34)\n",
    "\n",
    "eventdate = mdate.num2date(hrc.convert_chandra_time([714627954.9676153660]))\n",
    "fa6_heater_poweroff = dt.datetime(2020, 8, 24, 14, 38)\n",
    "hrc_poweroff_date = dt.datetime(2020, 8, 24, 15, 7, 26)\n",
    "morning_pass_time = dt.datetime(2020, 8, 24, 13, 45)\n",
    "evening_pass_time = dt.datetime(2020, 8, 24, 21, 20)\n",
    "\n",
    "tuesday_community_brief = dt.datetime(2020, 8, 25, 13, 0)\n",
    "wednesday_community_brief = dt.datetime(2020, 8, 26, 13, 0)\n",
    "\n",
    "cap_step_2 = dt.datetime(2020, 8, 27, 0, 13)\n",
    "cap_step_5 = dt.datetime(2020, 8, 27, 0, 24)\n",
    "cap_step_8 = dt.datetime(2020, 8, 27, 0, 40)\n",
    "\n",
    "#### The famous 6am pass in which everything looked fine\n",
    "thursday_early_pass = dt.datetime(2020,8,27,10,0)\n",
    "thursday_early_pass_end = dt.datetime(2020,8,27,11,0)\n",
    "\n",
    "#### I got the time of second anomaly from the first bad frame in the data. That is the Chandra time stamp below. \n",
    "time_of_second_anomaly = hrc.convert_chandra_time([714916399.97800004])\n",
    "human_time_of_second_anomaly = mdate.num2date(time_of_second_anomaly) # Just to have a human-readable time\n",
    "\n",
    "time_of_secont_shutdown = hrc.convert_chandra_time([714951463.18])\n",
    "human_time_of_second_shutdown = mdate.num2date(time_of_secont_shutdown) # Just to have a human-readable time\n",
    "\n",
    "time_of_cap_1543 = dt.datetime(2020,8,31,17,50)"
   ]
  },
  {
   "cell_type": "code",
   "execution_count": 17,
   "metadata": {
    "collapsed": true,
    "nbpresent": {
     "id": "b8e52720-a4c9-4f12-a34c-1bcb260c7a5d"
    }
   },
   "outputs": [],
   "source": [
    "since_2000 = '2000:001'"
   ]
  },
  {
   "cell_type": "code",
   "execution_count": null,
   "metadata": {
    "collapsed": true,
    "nbpresent": {
     "id": "06ace68c-dd02-4410-81bf-54e7b28b6738"
    }
   },
   "outputs": [],
   "source": [
    "temperature_msids = [\n",
    "    \"2FHTRMZT\",  # FEABox EED Temperature (c)\n",
    "    \"2CHTRPZT\",  # CEABox EED Temperature (c)\n",
    "]\n",
    "\n",
    "feabox = fetch.MSID(\"2DETART\", start=since_2000, stat='daily')\n",
    "# ceabox = fetch.MSID(\"2CHTRPZT\", start=since_2000, stat='5min')\n",
    "\n",
    "fig = px.scatter(x=mdate.num2date(hrc.convert_chandra_time(feabox.times)), y=feabox.midvals, template='ggplot2')\n",
    "\n",
    "\n",
    "fig.show()"
   ]
  },
  {
   "cell_type": "code",
   "execution_count": null,
   "metadata": {
    "nbpresent": {
     "id": "7c7cc22f-92b4-4aa2-a592-5058d488e2e6"
    }
   },
   "outputs": [],
   "source": [
    "temperature_msids = [\n",
    "    \"2FHTRMZT\",  # FEABox EED Temperature (c)\n",
    "    \"2CHTRPZT\",  # CEABox EED Temperature (c)\n",
    "]\n",
    "\n",
    "feabox = fetch.MSID(\"2PRBSCR\", start=since_2000, stat='daily')\n",
    "# ceabox = fetch.MSID(\"2CHTRPZT\", start=since_2000, stat='daily')\n",
    "\n",
    "fig = px.scatter(x=mdate.num2date(hrc.convert_chandra_time(feabox.times)), y=feabox.means-273.15, template='ggplot2')\n",
    "\n",
    "\n",
    "fig.show()"
   ]
  },
  {
   "cell_type": "code",
   "execution_count": 4,
   "metadata": {
    "nbpresent": {
     "id": "488f4a0c-af01-415a-b318-592e91776121"
    }
   },
   "outputs": [
    {
     "ename": "NameError",
     "evalue": "name 'plt' is not defined",
     "output_type": "error",
     "traceback": [
      "\u001b[0;31m---------------------------------------------------------------------------\u001b[0m",
      "\u001b[0;31mNameError\u001b[0m                                 Traceback (most recent call last)",
      "\u001b[0;32m<ipython-input-4-439015309973>\u001b[0m in \u001b[0;36m<module>\u001b[0;34m()\u001b[0m\n\u001b[1;32m      2\u001b[0m     dat = fetch.MSIDset(['2FHTRMZT', '2CHTRPZT', '2PRBSCR'],\n\u001b[1;32m      3\u001b[0m                         '2020:232', filter_bad=False, stat='5min')\n\u001b[0;32m----> 4\u001b[0;31m \u001b[0mfig\u001b[0m\u001b[0;34m,\u001b[0m \u001b[0max\u001b[0m \u001b[0;34m=\u001b[0m \u001b[0mplt\u001b[0m\u001b[0;34m.\u001b[0m\u001b[0msubplots\u001b[0m\u001b[0;34m(\u001b[0m\u001b[0;34m)\u001b[0m\u001b[0;34m\u001b[0m\u001b[0m\n\u001b[0m\u001b[1;32m      5\u001b[0m ax.scatter(dat['2PRBSCR'].vals, dat['2FHTRMZT'].vals,\n\u001b[1;32m      6\u001b[0m            color=yellow, markersize=markersize)\n",
      "\u001b[0;31mNameError\u001b[0m: name 'plt' is not defined"
     ]
    }
   ],
   "source": [
    "with fetch.data_source('cxc'):\n",
    "    dat = fetch.MSIDset(['2FHTRMZT', '2CHTRPZT', '2PRBSCR'],\n",
    "                        '2020:232', filter_bad=False, stat='5min')\n",
    "fig, ax = plt.subplots()\n",
    "ax.scatter(dat['2PRBSCR'].vals, dat['2FHTRMZT'].vals,\n",
    "           color=yellow, markersize=markersize)\n",
    "# ax.plot_date(hrc.convert_chandra_time(\n",
    "#     dat['2CHTRPZT'].times), dat['2CHTRPZT'].vals/20, label='2CHTRPZT', color=purple, markersize=markersize)\n",
    "# ax.plot_date(hrc.convert_chandra_time(\n",
    "#     dat['2PRBSCR'].times), dat['2PRBSCR'].vals, label='2PRBSCR', color=blue, markersize=markersize)\n",
    "ax.legend()\n",
    "# dat['2FHTRMZT'].plot(label='2FHTRMZT', color=yellow)\n",
    "# dat['2CHTRPZT'].plot(label='2CHTRPZT', color=purple)\n",
    "# dat['2PRBSCR'].plot(label='2PRBSCR', color=blue)\n",
    "\n",
    "ax.axvline(eventdate, color='gray')\n",
    "ax.axvline(hrc_poweroff_date, color='gray')\n",
    "ax.axvline(cap_step_2, color='gray')\n",
    "ax.axvline(time_of_second_anomaly, color='gray')\n",
    "ax.axvline(time_of_second_shutdown, color='gray')\n",
    "ax.axvline(time_of_cap_1543, color='gray')\n",
    "ax.legend()\n",
    "plt.tight_layout()\n",
    "plt.show()"
   ]
  },
  {
   "cell_type": "code",
   "execution_count": null,
   "metadata": {
    "collapsed": true
   },
   "outputs": [],
   "source": []
  }
 ],
 "metadata": {
  "kernelspec": {
   "display_name": "Python [conda env:ska3]",
   "language": "python",
   "name": "conda-env-ska3-py"
  },
  "language_info": {
   "codemirror_mode": {
    "name": "ipython",
    "version": 3
   },
   "file_extension": ".py",
   "mimetype": "text/x-python",
   "name": "python",
   "nbconvert_exporter": "python",
   "pygments_lexer": "ipython3",
   "version": "3.6.2"
  }
 },
 "nbformat": 4,
 "nbformat_minor": 2
}
