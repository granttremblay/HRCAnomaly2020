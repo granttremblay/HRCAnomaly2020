{
 "cells": [
  {
   "cell_type": "code",
   "execution_count": 1,
   "metadata": {
    "collapsed": true
   },
   "outputs": [],
   "source": [
    "import os\n",
    "import sys\n",
    "import shutil\n",
    "import time\n",
    "import pytz\n",
    "import traceback\n",
    "\n",
    "import Ska.engarchive.fetch as fetch\n",
    "import Chandra.Time\n",
    "\n",
    "import datetime as dt\n",
    "import matplotlib.dates as mdate\n",
    "from matplotlib import gridspec\n",
    "\n",
    "import matplotlib.pyplot as plt\n",
    "import mpld3\n",
    "\n",
    "import numpy as np\n",
    "import pandas as pd\n",
    "\n",
    "from Scripts.msidlists import *\n",
    "from Scripts.event_times import *\n",
    "from Scripts.plot_stylers import *\n",
    "\n",
    "from tqdm import tqdm as progressbar\n",
    "\n",
    "from hrcsentinel import hrccore as hrc\n",
    "\n",
    "\n",
    "# allow_subset=True should let us draw more data points\n",
    "# fetch.data_source.set('maude allow_subset=True')\n",
    "# fetch.data_source.set('cxc', 'maude allow_subset=True')\n",
    "fetch.data_source.set('maude')\n",
    "\n",
    "# fetch.data_source.set('cxc')\n",
    "\n",
    "hrc.styleplots()\n",
    "labelsizes = 15\n",
    "plt.rcParams['axes.titlesize'] = labelsizes + 2\n",
    "plt.rcParams['axes.labelsize'] = labelsizes\n",
    "plt.rcParams['xtick.labelsize'] = labelsizes\n",
    "plt.rcParams['ytick.labelsize'] = labelsizes\n",
    "\n",
    "%config InlineBackend.figure_format = 'retina'"
   ]
  },
  {
   "cell_type": "code",
   "execution_count": 3,
   "metadata": {},
   "outputs": [
    {
     "ename": "TypeError",
     "evalue": "get_telem() got an unexpected keyword argument 'interpolate'",
     "output_type": "error",
     "traceback": [
      "\u001b[0;31m---------------------------------------------------------------------------\u001b[0m",
      "\u001b[0;31mTypeError\u001b[0m                                 Traceback (most recent call last)",
      "\u001b[0;32m<ipython-input-3-d12aaf8fb806>\u001b[0m in \u001b[0;36m<module>\u001b[0;34m()\u001b[0m\n\u001b[1;32m      1\u001b[0m \u001b[0mfig\u001b[0m\u001b[0;34m,\u001b[0m \u001b[0maxarray\u001b[0m \u001b[0;34m=\u001b[0m \u001b[0mplt\u001b[0m\u001b[0;34m.\u001b[0m\u001b[0msubplots\u001b[0m\u001b[0;34m(\u001b[0m\u001b[0;36m2\u001b[0m\u001b[0;34m,\u001b[0m \u001b[0msharex\u001b[0m\u001b[0;34m=\u001b[0m\u001b[0;32mTrue\u001b[0m\u001b[0;34m,\u001b[0m \u001b[0mfigsize\u001b[0m\u001b[0;34m=\u001b[0m\u001b[0;34m(\u001b[0m\u001b[0;36m14\u001b[0m\u001b[0;34m,\u001b[0m \u001b[0;36m9\u001b[0m\u001b[0;34m)\u001b[0m\u001b[0;34m,\u001b[0m \u001b[0mgridspec_kw\u001b[0m\u001b[0;34m=\u001b[0m\u001b[0;34m{\u001b[0m\u001b[0;34m'height_ratios'\u001b[0m\u001b[0;34m:\u001b[0m \u001b[0;34m[\u001b[0m\u001b[0;36m1\u001b[0m\u001b[0;34m,\u001b[0m \u001b[0;36m1\u001b[0m\u001b[0;34m]\u001b[0m\u001b[0;34m}\u001b[0m\u001b[0;34m)\u001b[0m\u001b[0;34m\u001b[0m\u001b[0m\n\u001b[1;32m      2\u001b[0m \u001b[0;34m\u001b[0m\u001b[0m\n\u001b[0;32m----> 3\u001b[0;31m \u001b[0mdat\u001b[0m \u001b[0;34m=\u001b[0m \u001b[0mfetch\u001b[0m\u001b[0;34m.\u001b[0m\u001b[0mget_telem\u001b[0m\u001b[0;34m(\u001b[0m\u001b[0;34m[\u001b[0m\u001b[0;34m'2SHEV1RT'\u001b[0m\u001b[0;34m,\u001b[0m \u001b[0;34m'2S2HVST'\u001b[0m\u001b[0;34m,\u001b[0m \u001b[0;34m'2PMT2T'\u001b[0m\u001b[0;34m,\u001b[0m \u001b[0;34m'2PRBSCR'\u001b[0m\u001b[0;34m]\u001b[0m\u001b[0;34m,\u001b[0m \u001b[0minterpolate\u001b[0m\u001b[0;34m=\u001b[0m\u001b[0;32mTrue\u001b[0m\u001b[0;34m,\u001b[0m \u001b[0mstart\u001b[0m\u001b[0;34m=\u001b[0m\u001b[0;34m'2020:245'\u001b[0m\u001b[0;34m)\u001b[0m\u001b[0;34m\u001b[0m\u001b[0m\n\u001b[0m\u001b[1;32m      4\u001b[0m \u001b[0;34m\u001b[0m\u001b[0m\n\u001b[1;32m      5\u001b[0m \u001b[0mtimes\u001b[0m \u001b[0;34m=\u001b[0m \u001b[0mhrc\u001b[0m\u001b[0;34m.\u001b[0m\u001b[0mconvert_chandra_time\u001b[0m\u001b[0;34m(\u001b[0m\u001b[0mdat\u001b[0m\u001b[0;34m[\u001b[0m\u001b[0;34m'2SHEV1RT'\u001b[0m\u001b[0;34m]\u001b[0m\u001b[0;34m.\u001b[0m\u001b[0mtimes\u001b[0m\u001b[0;34m)\u001b[0m\u001b[0;34m\u001b[0m\u001b[0m\n",
      "\u001b[0;31mTypeError\u001b[0m: get_telem() got an unexpected keyword argument 'interpolate'"
     ]
    }
   ],
   "source": [
    "fig, axarray = plt.subplots(2, sharex=True, figsize=(14, 9), gridspec_kw={'height_ratios': [1, 1]})\n",
    "\n",
    "dat = fetch.get_telem(['2SHEV1RT', '2S2HVST', '2PMT2T', '2PRBSCR'], interpolate=True, start='2020:245')\n",
    "\n",
    "times = hrc.convert_chandra_time(dat['2SHEV1RT'].times)\n",
    "axarray[0].plot_date(times, dat['2SHEV1RT'].vals, markersize=2.5, color=purple)\n",
    "\n",
    "axarray[0].grid('off', axis='y')\n",
    "\n",
    "axarray[0].set_xlim(dt.datetime(2020, 9, 7, 0))\n",
    "axarray[0].set_ylim(0, 10000)\n",
    "\n",
    "axarray[0].axvline(time_of_cap_1545a, color=gggray, alpha=0.5)\n",
    "axarray[0].axvline(dt.datetime.now(pytz.utc), color=gggray, alpha=0.5)\n",
    "\n",
    "axarray[0].text(time_of_cap_1545a, axarray[0].get_ylim()[1]*1.005,'PMT Turn-on (CAP 1545a)', fontsize=10, color='slategray')\n",
    "\n",
    "axarray[0].text(dt.datetime.now(pytz.utc), axarray[0].get_ylim()[1]*1.005,'Now ({} UTC)'.format(dt.datetime.now(pytz.utc).strftime(\"%m/%d/%Y, %H:%M:%S\")), fontsize=10, color='slategray')\n",
    "\n",
    "\n",
    "topplot_rightax = axarray[0].twinx()\n",
    "topplot_rightax.plot_date(times, dat['2S2HVST'].vals, color=green, alpha=0.8, linestyle='-', linewidth=2.5, markersize=0)\n",
    "\n",
    "# axarray[0].set_yscale('log')\n",
    "\n",
    "axarray[0].set_ylabel(r'Shield Rate 2SHEV1RT (counts s$^{-1}$)', color=purple)\n",
    "axarray[0].tick_params(axis='y', labelcolor=purple)\n",
    "\n",
    "topplot_rightax.set_ylabel('Shield PMT2 Voltage Step', color=green)\n",
    "topplot_rightax.tick_params(axis='y', labelcolor=green)\n",
    "\n",
    "topplot_rightax.set_xlim(dt.datetime(2020, 9, 7, 22))\n",
    "\n",
    "\n",
    "axarray[1].plot_date(hrc.convert_chandra_time(dat['2PMT2T'].times), dat['2PMT2T'].vals, markersize=2.5, color=red, zorder=3)\n",
    "axarray[1].set_ylabel('PMT2 Temperature 2PMT2T (C)', color=red)\n",
    "axarray[1].tick_params(axis='y', labelcolor=red)\n",
    "\n",
    "\n",
    "\n",
    "# axarray[1].set_ylim(26,31)\n",
    "\n",
    "bottomplot_rightax = axarray[1].twinx()\n",
    "bottomplot_rightax.plot_date(hrc.convert_chandra_time(dat['2PRBSCR'].times), dat['2PRBSCR'].vals, color=blue, alpha=0.8, markersize=2, zorder=3)\n",
    "\n",
    "bottomplot_rightax.set_ylabel('S/C Bus Current', color=blue)\n",
    "bottomplot_rightax.tick_params(axis='y', labelcolor=blue)\n",
    "\n",
    "bottomplot_rightax.set_xlim(dt.datetime(2020, 9, 7, 0))\n",
    "\n",
    "# bottomplot_rightax.set_ylim(1.5, 2.2)\n",
    "\n",
    "axarray[1].grid('off', axis='y')\n",
    "axarray[1].axvline(time_of_cap_1545a, color=gggray, alpha=0.5)\n",
    "axarray[1].axvline(dt.datetime.now(pytz.utc), color=gggray, alpha=0.5)\n",
    "\n",
    "axarray[1].text(time_of_cap_1545a, axarray[1].get_ylim()[1]*1.005,'PMT Turn-on (CAP 1545a)', fontsize=10, color='slategray')\n",
    "\n",
    "axarray[1].text(dt.datetime.now(pytz.utc), axarray[1].get_ylim()[1]*1.005,'Now ({} UTC)'.format(dt.datetime.now(pytz.utc).strftime(\"%m/%d/%Y, %H:%M:%S\")), fontsize=10, color='slategray')\n",
    "\n",
    "bottomplot_rightax.set_ylim(1.2, 2.3)\n",
    "plt.tight_layout()\n",
    "plt.show()\n",
    "\n",
    "fig.savefig('/Users/grant/Desktop/PaulP.png', dpi=300)"
   ]
  },
  {
   "cell_type": "code",
   "execution_count": null,
   "metadata": {
    "collapsed": true
   },
   "outputs": [],
   "source": []
  },
  {
   "cell_type": "code",
   "execution_count": null,
   "metadata": {
    "collapsed": true
   },
   "outputs": [],
   "source": []
  }
 ],
 "metadata": {
  "kernelspec": {
   "display_name": "Python [default]",
   "language": "python",
   "name": "python3"
  },
  "language_info": {
   "codemirror_mode": {
    "name": "ipython",
    "version": 3
   },
   "file_extension": ".py",
   "mimetype": "text/x-python",
   "name": "python",
   "nbconvert_exporter": "python",
   "pygments_lexer": "ipython3",
   "version": "3.6.2"
  }
 },
 "nbformat": 4,
 "nbformat_minor": 2
}
