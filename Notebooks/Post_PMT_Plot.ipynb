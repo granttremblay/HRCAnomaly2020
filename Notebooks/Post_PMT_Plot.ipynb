{
 "cells": [
  {
   "cell_type": "code",
   "execution_count": 109,
   "metadata": {},
   "outputs": [],
   "source": [
    "import os\n",
    "import sys\n",
    "import shutil\n",
    "import time\n",
    "import pytz\n",
    "import traceback\n",
    "\n",
    "import Ska.engarchive.fetch as fetch\n",
    "import Chandra.Time\n",
    "\n",
    "import datetime as dt\n",
    "import matplotlib.dates as mdate\n",
    "from matplotlib import gridspec\n",
    "\n",
    "import matplotlib.pyplot as plt\n",
    "import mpld3\n",
    "\n",
    "import numpy as np\n",
    "import pandas as pd\n",
    "\n",
    "from Scripts.msidlists import *\n",
    "from Scripts.event_times import *\n",
    "from Scripts.plot_stylers import *\n",
    "\n",
    "from tqdm import tqdm as progressbar\n",
    "\n",
    "from hrcsentinel import hrccore as hrc\n",
    "\n",
    "\n",
    "# allow_subset=True should let us draw more data points\n",
    "# fetch.data_source.set('maude allow_subset=True')\n",
    "fetch.data_source.set('cxc', 'maude allow_subset=True')\n",
    "fetch.data_source.set('maude')\n",
    "\n",
    "hrc.styleplots()\n",
    "labelsizes = 15\n",
    "plt.rcParams['axes.titlesize'] = labelsizes + 2\n",
    "plt.rcParams['axes.labelsize'] = labelsizes\n",
    "plt.rcParams['xtick.labelsize'] = labelsizes\n",
    "plt.rcParams['ytick.labelsize'] = labelsizes\n",
    "\n",
    "%config InlineBackend.figure_format = 'retina'"
   ]
  },
  {
   "cell_type": "code",
   "execution_count": null,
   "metadata": {},
   "outputs": [
    {
     "name": "stdout",
     "output_type": "stream",
     "text": [
      "Fetching full-resolution data for MSIDS=['2SHEV1RT', '2S2HVST', '2PMT2T', '2PRBSCR']\n",
      "  from 2020:251:12:00:00.000 to 2020:253:13:23:29.138\n"
     ]
    }
   ],
   "source": [
    "fig, axarray = plt.subplots(2, sharex=True, figsize=(14, 9), gridspec_kw={'height_ratios': [1, 1]})\n",
    "\n",
    "dat = fetch.get_telem(['2SHEV1RT', '2S2HVST', '2PMT2T', '2PRBSCR'], start='2020:251')\n",
    "\n",
    "times = hrc.convert_chandra_time(dat['2SHEV1RT'].times)\n",
    "axarray[0].plot_date(times, dat['2SHEV1RT'].vals, markersize=2.5, color=purple)\n",
    "\n",
    "axarray[0].grid('off', axis='y')\n",
    "\n",
    "axarray[0].set_xlim(dt.datetime(2020, 9, 8, 0))\n",
    "\n",
    "axarray[0].axvline(time_of_cap_1545a, color=gggray, alpha=0.5)\n",
    "axarray[0].axvline(dt.datetime.now(pytz.utc), color=gggray, alpha=0.5)\n",
    "\n",
    "topplot_rightax = axarray[0].twinx()\n",
    "topplot_rightax.plot_date(times, dat['2S2HVST'].vals, color=green, alpha=0.8, linestyle='-', linewidth=2.5, markersize=0)\n",
    "\n",
    "# axarray[0].set_yscale('log')\n",
    "\n",
    "axarray[0].set_ylabel(r'Shield Rate 2SHEV1RT (counts s$^{-1}$)', color=purple)\n",
    "axarray[0].tick_params(axis='y', labelcolor=purple)\n",
    "\n",
    "topplot_rightax.set_ylabel('Shield PMT2 Voltage Step', color=green)\n",
    "topplot_rightax.tick_params(axis='y', labelcolor=green)\n",
    "\n",
    "topplot_rightax.set_xlim(dt.datetime(2020, 9, 7, 22))\n",
    "\n",
    "axarray[1].plot_date(hrc.convert_chandra_time(dat['2PMT2T'].times), dat['2PMT2T'].vals, markersize=2.5, color=red)\n",
    "axarray[1].set_ylabel('PMT2 Temperature 2PMT2T (C)', color=red)\n",
    "axarray[1].tick_params(axis='y', labelcolor=red)\n",
    "\n",
    "axarray[1].set_ylim(26,31)\n",
    "\n",
    "bottomplot_rightax = axarray[1].twinx()\n",
    "bottomplot_rightax.plot_date(hrc.convert_chandra_time(dat['2PRBSCR'].times), dat['2PRBSCR'].vals, color=blue, alpha=0.8, markersize=2)\n",
    "\n",
    "bottomplot_rightax.set_ylabel('S/C Redundant Bus Current', color=blue)\n",
    "bottomplot_rightax.tick_params(axis='y', labelcolor=blue)\n",
    "\n",
    "bottomplot_rightax.set_xlim(dt.datetime(2020, 9, 7, 22))\n",
    "\n",
    "bottomplot_rightax.set_ylim(1.5, 2.2)\n",
    "\n",
    "axarray[1].grid('off', axis='y')\n",
    "axarray[1].axvline(time_of_cap_1545a, color=gggray, alpha=0.5)\n",
    "axarray[1].axvline(dt.datetime.now(pytz.utc), color=gggray, alpha=0.5)\n",
    "plt.tight_layout()\n",
    "plt.show()\n",
    "\n",
    "fig.savefig('/Users/grant/Desktop/sabina.png', dpi=300)"
   ]
  },
  {
   "cell_type": "code",
   "execution_count": null,
   "metadata": {
    "collapsed": true
   },
   "outputs": [],
   "source": []
  }
 ],
 "metadata": {
  "kernelspec": {
   "display_name": "Python [conda env:ska3]",
   "language": "python",
   "name": "conda-env-ska3-py"
  },
  "language_info": {
   "codemirror_mode": {
    "name": "ipython",
    "version": 3
   },
   "file_extension": ".py",
   "mimetype": "text/x-python",
   "name": "python",
   "nbconvert_exporter": "python",
   "pygments_lexer": "ipython3",
   "version": "3.6.2"
  }
 },
 "nbformat": 4,
 "nbformat_minor": 2
}
